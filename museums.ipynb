{
 "cells": [
  {
   "cell_type": "code",
   "execution_count": 4,
   "id": "f99ec83e-f328-43e3-9a06-7db02b12b638",
   "metadata": {
    "tags": []
   },
   "outputs": [
    {
     "name": "stdout",
     "output_type": "stream",
     "text": [
      "<class 'pandas.core.frame.DataFrame'>\n",
      "RangeIndex: 33072 entries, 0 to 33071\n",
      "Data columns (total 25 columns):\n",
      " #   Column                                    Non-Null Count  Dtype  \n",
      "---  ------                                    --------------  -----  \n",
      " 0   Museum ID                                 33072 non-null  int64  \n",
      " 1   Museum Name                               33072 non-null  object \n",
      " 2   Legal Name                                33072 non-null  object \n",
      " 3   Alternate Name                            1927 non-null   object \n",
      " 4   Museum Type                               33072 non-null  object \n",
      " 5   Institution Name                          2749 non-null   object \n",
      " 6   Street Address (Administrative Location)  33062 non-null  object \n",
      " 7   City (Administrative Location)            33072 non-null  object \n",
      " 8   State (Administrative Location)           33072 non-null  object \n",
      " 9   Zip Code (Administrative Location)        33072 non-null  object \n",
      " 10  Street Address (Physical Location)        9216 non-null   object \n",
      " 11  City (Physical Location)                  9223 non-null   object \n",
      " 12  State (Physical Location)                 9223 non-null   object \n",
      " 13  Zip Code (Physical Location)              9221 non-null   float64\n",
      " 14  Phone Number                              22932 non-null  object \n",
      " 15  Latitude                                  33007 non-null  float64\n",
      " 16  Longitude                                 33007 non-null  float64\n",
      " 17  Locale Code (NCES)                        32995 non-null  float64\n",
      " 18  County Code (FIPS)                        30536 non-null  float64\n",
      " 19  State Code (FIPS)                         33071 non-null  float64\n",
      " 20  Region Code (AAM)                         33072 non-null  int64  \n",
      " 21  Employer ID Number                        27554 non-null  object \n",
      " 22  Tax Period                                23280 non-null  float64\n",
      " 23  Income                                    22961 non-null  float64\n",
      " 24  Revenue                                   22290 non-null  float64\n",
      "dtypes: float64(9), int64(2), object(14)\n",
      "memory usage: 6.3+ MB\n",
      "None\n"
     ]
    }
   ],
   "source": [
    "import pandas as pd\n",
    "from tabulate import tabulate\n",
    "m = pd.read_csv(\"museums.csv\",low_memory=False)\n",
    "# print(m.head(20))\n",
    "print(m.info())\n",
    "def to_tabulate(df, format):\n",
    "    print(tabulate(df, headers=\"keys\", tablefmt=format))"
   ]
  },
  {
   "cell_type": "code",
   "execution_count": 15,
   "id": "ad13f1b3-6460-4f66-85bf-d8013b91e094",
   "metadata": {},
   "outputs": [],
   "source": [
    "t = m[\"Museum Type\"].unique()"
   ]
  },
  {
   "cell_type": "code",
   "execution_count": 16,
   "id": "51a6bc02",
   "metadata": {},
   "outputs": [
    {
     "data": {
      "text/plain": [
       "['HISTORY MUSEUM',\n",
       " 'ARBORETUM, BOTANICAL GARDEN, OR NATURE CENTER',\n",
       " 'SCIENCE & TECHNOLOGY MUSEUM OR PLANETARIUM',\n",
       " 'HISTORIC PRESERVATION',\n",
       " 'GENERAL MUSEUM',\n",
       " 'ZOO, AQUARIUM, OR WILDLIFE CONSERVATION',\n",
       " 'ART MUSEUM',\n",
       " \"CHILDREN'S MUSEUM\",\n",
       " 'NATURAL HISTORY MUSEUM']"
      ]
     },
     "execution_count": 16,
     "metadata": {},
     "output_type": "execute_result"
    }
   ],
   "source": [
    "t.tolist()"
   ]
  },
  {
   "cell_type": "code",
   "execution_count": 48,
   "id": "ecf17de3-4873-4ddb-af8c-4c481978c9e5",
   "metadata": {},
   "outputs": [],
   "source": [
    "# z = m[\"Museum Name\"].str.contains(\"ZOO\").any()\n",
    "# df['conference'].str.contains('East').sum()\n",
    "# df['col'].str.contains('partial_string').sum()"
   ]
  },
  {
   "cell_type": "code",
   "execution_count": 39,
   "id": "f81d1531-76df-44f2-8025-5b3473a34a46",
   "metadata": {},
   "outputs": [
    {
     "name": "stdout",
     "output_type": "stream",
     "text": [
      "0        False\n",
      "1        False\n",
      "2        False\n",
      "3        False\n",
      "4        False\n",
      "         ...  \n",
      "33067    False\n",
      "33068    False\n",
      "33069    False\n",
      "33070    False\n",
      "33071    False\n",
      "Name: Museum Name, Length: 33072, dtype: bool\n"
     ]
    }
   ],
   "source": [
    "print(z)"
   ]
  },
  {
   "cell_type": "code",
   "execution_count": 40,
   "id": "c4e280b6-76d0-4ecd-a9ec-f34c58e988e2",
   "metadata": {},
   "outputs": [
    {
     "data": {
      "text/plain": [
       "33072"
      ]
     },
     "execution_count": 40,
     "metadata": {},
     "output_type": "execute_result"
    }
   ],
   "source": [
    "z.count()"
   ]
  },
  {
   "cell_type": "code",
   "execution_count": 54,
   "id": "9052e822-c0e0-468b-91e8-4afe763b39d2",
   "metadata": {},
   "outputs": [],
   "source": [
    "s = m.groupby(\"Museum Name\").Revenue.max().reset_index()"
   ]
  },
  {
   "cell_type": "code",
   "execution_count": 55,
   "id": "0ee7d0d6-d442-4a1d-9477-db7b4ba44516",
   "metadata": {},
   "outputs": [
    {
     "name": "stdout",
     "output_type": "stream",
     "text": [
      "+----+---------------+-------------+\n",
      "|    | Museum Name   |     Revenue |\n",
      "|----+---------------+-------------|\n",
      "|  0 | False         | 5.84035e+09 |\n",
      "+----+---------------+-------------+\n"
     ]
    }
   ],
   "source": [
    "to_tabulate(s, \"psql\")"
   ]
  },
  {
   "cell_type": "code",
   "execution_count": 57,
   "id": "c87a518f-f2af-47cb-a412-80b73c1f1a96",
   "metadata": {},
   "outputs": [
    {
     "name": "stdout",
     "output_type": "stream",
     "text": [
      "$5,840,349,457.00\n"
     ]
    }
   ],
   "source": [
    "print(\"${:,.2f}\".format(m['Revenue'].max()))"
   ]
  },
  {
   "cell_type": "code",
   "execution_count": 60,
   "id": "8431575e-e52e-49dc-9272-affe5b92d6f5",
   "metadata": {},
   "outputs": [
    {
     "data": {
      "text/plain": [
       "1090"
      ]
     },
     "execution_count": 60,
     "metadata": {},
     "output_type": "execute_result"
    }
   ],
   "source": [
    "m['Revenue'].idxmax()"
   ]
  },
  {
   "cell_type": "code",
   "execution_count": 61,
   "id": "6511cb47-b05e-4a38-ba37-018728fc115b",
   "metadata": {},
   "outputs": [
    {
     "data": {
      "text/plain": [
       "Revenue    1090\n",
       "dtype: int64"
      ]
     },
     "execution_count": 61,
     "metadata": {},
     "output_type": "execute_result"
    }
   ],
   "source": [
    "m[['Revenue']].idxmax()"
   ]
  },
  {
   "cell_type": "code",
   "execution_count": 65,
   "id": "83220a64-c592-4156-9f05-5e77639cbb98",
   "metadata": {},
   "outputs": [
    {
     "data": {
      "text/plain": [
       "Museum ID                                                                   8409500460\n",
       "Museum Name                                                                      False\n",
       "Legal Name                                    PRESIDENT AND FELLOWS OF HARVARD COLLEGE\n",
       "Alternate Name                                                                     NaN\n",
       "Museum Type                                 SCIENCE & TECHNOLOGY MUSEUM OR PLANETARIUM\n",
       "Institution Name                                                    HARVARD UNIVERSITY\n",
       "Street Address (Administrative Location)                             670 MT HOPKINS RD\n",
       "City (Administrative Location)                                                   AMADO\n",
       "State (Administrative Location)                                                     AZ\n",
       "Zip Code (Administrative Location)                                                2138\n",
       "Street Address (Physical Location)                                                 NaN\n",
       "City (Physical Location)                                                           NaN\n",
       "State (Physical Location)                                                          NaN\n",
       "Zip Code (Physical Location)                                                       NaN\n",
       "Phone Number                                                                       NaN\n",
       "Latitude                                                                      42.36977\n",
       "Longitude                                                                    -71.11216\n",
       "Locale Code (NCES)                                                                 1.0\n",
       "County Code (FIPS)                                                                17.0\n",
       "State Code (FIPS)                                                                 25.0\n",
       "Region Code (AAM)                                                                    1\n",
       "Employer ID Number                                                            42103580\n",
       "Tax Period                                                                    201306.0\n",
       "Income                                                                   83181439574.0\n",
       "Revenue                                                                   5840349457.0\n",
       "Name: 1090, dtype: object"
      ]
     },
     "execution_count": 65,
     "metadata": {},
     "output_type": "execute_result"
    }
   ],
   "source": [
    "m.iloc[1090]"
   ]
  },
  {
   "cell_type": "code",
   "execution_count": 67,
   "id": "954dea2a-0e4d-4242-beaa-55e8c5f1b4cb",
   "metadata": {},
   "outputs": [
    {
     "data": {
      "text/plain": [
       "count    2.229000e+04\n",
       "mean     2.097605e+07\n",
       "std      2.485197e+08\n",
       "min     -2.127393e+06\n",
       "25%      0.000000e+00\n",
       "50%      3.307000e+03\n",
       "75%      1.676960e+05\n",
       "max      5.840349e+09\n",
       "Name: Revenue, dtype: float64"
      ]
     },
     "execution_count": 67,
     "metadata": {},
     "output_type": "execute_result"
    }
   ],
   "source": [
    "m['Revenue'].describe()"
   ]
  },
  {
   "cell_type": "code",
   "execution_count": 68,
   "id": "f3e52d01-ee4b-4431-a9d3-5dcb4447e207",
   "metadata": {},
   "outputs": [
    {
     "data": {
      "text/html": [
       "<div>\n",
       "<style scoped>\n",
       "    .dataframe tbody tr th:only-of-type {\n",
       "        vertical-align: middle;\n",
       "    }\n",
       "\n",
       "    .dataframe tbody tr th {\n",
       "        vertical-align: top;\n",
       "    }\n",
       "\n",
       "    .dataframe thead th {\n",
       "        text-align: right;\n",
       "    }\n",
       "</style>\n",
       "<table border=\"1\" class=\"dataframe\">\n",
       "  <thead>\n",
       "    <tr style=\"text-align: right;\">\n",
       "      <th></th>\n",
       "      <th>Revenue</th>\n",
       "    </tr>\n",
       "  </thead>\n",
       "  <tbody>\n",
       "    <tr>\n",
       "      <th>count</th>\n",
       "      <td>2.229000e+04</td>\n",
       "    </tr>\n",
       "    <tr>\n",
       "      <th>mean</th>\n",
       "      <td>2.097605e+07</td>\n",
       "    </tr>\n",
       "    <tr>\n",
       "      <th>std</th>\n",
       "      <td>2.485197e+08</td>\n",
       "    </tr>\n",
       "    <tr>\n",
       "      <th>min</th>\n",
       "      <td>-2.127393e+06</td>\n",
       "    </tr>\n",
       "    <tr>\n",
       "      <th>25%</th>\n",
       "      <td>0.000000e+00</td>\n",
       "    </tr>\n",
       "    <tr>\n",
       "      <th>50%</th>\n",
       "      <td>3.307000e+03</td>\n",
       "    </tr>\n",
       "    <tr>\n",
       "      <th>75%</th>\n",
       "      <td>1.676960e+05</td>\n",
       "    </tr>\n",
       "    <tr>\n",
       "      <th>max</th>\n",
       "      <td>5.840349e+09</td>\n",
       "    </tr>\n",
       "  </tbody>\n",
       "</table>\n",
       "</div>"
      ],
      "text/plain": [
       "            Revenue\n",
       "count  2.229000e+04\n",
       "mean   2.097605e+07\n",
       "std    2.485197e+08\n",
       "min   -2.127393e+06\n",
       "25%    0.000000e+00\n",
       "50%    3.307000e+03\n",
       "75%    1.676960e+05\n",
       "max    5.840349e+09"
      ]
     },
     "execution_count": 68,
     "metadata": {},
     "output_type": "execute_result"
    }
   ],
   "source": [
    "m[['Revenue']].describe()"
   ]
  },
  {
   "cell_type": "code",
   "execution_count": 72,
   "id": "98cc121d-59ab-4008-8dd2-fb0ca399cca0",
   "metadata": {},
   "outputs": [],
   "source": [
    "s = m[m[\"Museum Type\"] == 'ZOO, AQUARIUM, OR WILDLIFE CONSERVATION']"
   ]
  },
  {
   "cell_type": "code",
   "execution_count": 80,
   "id": "9d9bef13-52e7-436d-996b-37f8f7b62ca6",
   "metadata": {},
   "outputs": [],
   "source": [
    "def describeMuseumType(mtype):\n",
    "    s = m[m[\"Muesum Type\"] == mtype]\n",
    "    print(\"Result for\", mtype)\n",
    "    print('revenue', s[\"Revenue\"].describe())\n",
    "    print('income', s[\"Income\"].describe())\n",
    "    "
   ]
  },
  {
   "cell_type": "code",
   "execution_count": 81,
   "id": "7c7164e7-7fa2-45a4-af1c-2b0ff074159b",
   "metadata": {},
   "outputs": [],
   "source": [
    "# describeMuseumType('ZOO, AQUARIUM, OR WILDLIFE CONSERVATION')"
   ]
  },
  {
   "cell_type": "code",
   "execution_count": null,
   "id": "3f87ed35-d86c-4cea-bd54-882caa487cf4",
   "metadata": {},
   "outputs": [],
   "source": []
  },
  {
   "cell_type": "code",
   "execution_count": null,
   "id": "4b4a4b76-9a79-4ef0-b83c-7e7d79ebdad8",
   "metadata": {},
   "outputs": [],
   "source": []
  }
 ],
 "metadata": {
  "kernelspec": {
   "display_name": "Python 3 (ipykernel)",
   "language": "python",
   "name": "python3"
  },
  "language_info": {
   "codemirror_mode": {
    "name": "ipython",
    "version": 3
   },
   "file_extension": ".py",
   "mimetype": "text/x-python",
   "name": "python",
   "nbconvert_exporter": "python",
   "pygments_lexer": "ipython3",
   "version": "3.11.5"
  }
 },
 "nbformat": 4,
 "nbformat_minor": 5
}
