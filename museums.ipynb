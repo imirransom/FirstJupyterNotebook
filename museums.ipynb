{
 "cells": [
  {
   "cell_type": "code",
   "execution_count": 5,
   "id": "f99ec83e-f328-43e3-9a06-7db02b12b638",
   "metadata": {
    "tags": []
   },
   "outputs": [
    {
     "name": "stdout",
     "output_type": "stream",
     "text": [
      "<class 'pandas.core.frame.DataFrame'>\n",
      "RangeIndex: 33072 entries, 0 to 33071\n",
      "Data columns (total 25 columns):\n",
      " #   Column                                    Non-Null Count  Dtype  \n",
      "---  ------                                    --------------  -----  \n",
      " 0   Museum ID                                 33072 non-null  int64  \n",
      " 1   Museum Name                               33072 non-null  object \n",
      " 2   Legal Name                                33072 non-null  object \n",
      " 3   Alternate Name                            1927 non-null   object \n",
      " 4   Museum Type                               33072 non-null  object \n",
      " 5   Institution Name                          2749 non-null   object \n",
      " 6   Street Address (Administrative Location)  33062 non-null  object \n",
      " 7   City (Administrative Location)            33072 non-null  object \n",
      " 8   State (Administrative Location)           33072 non-null  object \n",
      " 9   Zip Code (Administrative Location)        33072 non-null  object \n",
      " 10  Street Address (Physical Location)        9216 non-null   object \n",
      " 11  City (Physical Location)                  9223 non-null   object \n",
      " 12  State (Physical Location)                 9223 non-null   object \n",
      " 13  Zip Code (Physical Location)              9221 non-null   float64\n",
      " 14  Phone Number                              22932 non-null  object \n",
      " 15  Latitude                                  33007 non-null  float64\n",
      " 16  Longitude                                 33007 non-null  float64\n",
      " 17  Locale Code (NCES)                        32995 non-null  float64\n",
      " 18  County Code (FIPS)                        30536 non-null  float64\n",
      " 19  State Code (FIPS)                         33071 non-null  float64\n",
      " 20  Region Code (AAM)                         33072 non-null  int64  \n",
      " 21  Employer ID Number                        27554 non-null  object \n",
      " 22  Tax Period                                23280 non-null  float64\n",
      " 23  Income                                    22961 non-null  float64\n",
      " 24  Revenue                                   22290 non-null  float64\n",
      "dtypes: float64(9), int64(2), object(14)\n",
      "memory usage: 6.3+ MB\n",
      "None\n"
     ]
    },
    {
     "name": "stderr",
     "output_type": "stream",
     "text": [
      "/var/folders/7d/177p5yjd3691b3ytzr0fwn_00000gp/T/ipykernel_22576/1316785536.py:3: DtypeWarning: Columns (9,14,21) have mixed types. Specify dtype option on import or set low_memory=False.\n",
      "  m = pd.read_csv(\"museums.csv\")\n"
     ]
    }
   ],
   "source": [
    "import pandas as pd\n",
    "from tabulate import tabulate\n",
    "m = pd.read_csv(\"museums.csv\")\n",
    "# print(m.head(20))\n",
    "print(m.info())"
   ]
  },
  {
   "cell_type": "code",
   "execution_count": 4,
   "id": "ad13f1b3-6460-4f66-85bf-d8013b91e094",
   "metadata": {},
   "outputs": [
    {
     "name": "stdout",
     "output_type": "stream",
     "text": [
      "+----+-------------+-------------------------------------------------------+-------------------------------------------------------------+--------------------------------------+-----------------------------------------------+--------------------+--------------------------------------------+----------------------------------+-----------------------------------+--------------------------------------+--------------------------------------+----------------------------+-----------------------------+--------------------------------+----------------+------------+-------------+----------------------+----------------------+---------------------+---------------------+----------------------+--------------+------------------+------------------+\n",
      "|    |   Museum ID | Museum Name                                           | Legal Name                                                  | Alternate Name                       | Museum Type                                   |   Institution Name | Street Address (Administrative Location)   | City (Administrative Location)   | State (Administrative Location)   |   Zip Code (Administrative Location) | Street Address (Physical Location)   | City (Physical Location)   | State (Physical Location)   |   Zip Code (Physical Location) |   Phone Number |   Latitude |   Longitude |   Locale Code (NCES) |   County Code (FIPS) |   State Code (FIPS) |   Region Code (AAM) |   Employer ID Number |   Tax Period |           Income |          Revenue |\n",
      "|----+-------------+-------------------------------------------------------+-------------------------------------------------------------+--------------------------------------+-----------------------------------------------+--------------------+--------------------------------------------+----------------------------------+-----------------------------------+--------------------------------------+--------------------------------------+----------------------------+-----------------------------+--------------------------------+----------------+------------+-------------+----------------------+----------------------+---------------------+---------------------+----------------------+--------------+------------------+------------------|\n",
      "|  0 |  8400200098 | ALASKA AVIATION HERITAGE MUSEUM                       | ALASKA AVIATION HERITAGE MUSEUM                             | nan                                  | HISTORY MUSEUM                                |                nan | 4721 AIRCRAFT DR                           | ANCHORAGE                        | AK                                |                                99502 | nan                                  | nan                        | nan                         |                            nan |    9.07249e+09 |    61.1793 |    -149.973 |                    1 |                   20 |                   2 |                   6 |          9.20072e+08 |       201312 | 602912           | 550236           |\n",
      "|  1 |  8400200117 | ALASKA BOTANICAL GARDEN                               | ALASKA BOTANICAL GARDEN INC                                 | nan                                  | ARBORETUM, BOTANICAL GARDEN, OR NATURE CENTER |                nan | 4601 CAMPBELL AIRSTRIP RD                  | ANCHORAGE                        | AK                                |                                99507 | nan                                  | nan                        | nan                         |                            nan |    9.0777e+09  |    61.1689 |    -149.767 |                    4 |                   20 |                   2 |                   6 |          9.20116e+08 |       201312 |      1.37958e+06 |      1.32374e+06 |\n",
      "|  2 |  8400200153 | ALASKA CHALLENGER CENTER FOR SPACE SCIENCE TECHNOLOGY | ALASKA CHALLENGER CENTER FOR SPACE SCIENCE TECHNOLOGY INC   | nan                                  | SCIENCE & TECHNOLOGY MUSEUM OR PLANETARIUM    |                nan | 9711 KENAI SPUR HWY                        | KENAI                            | AK                                |                                99611 | nan                                  | nan                        | nan                         |                            nan |    9.07283e+09 |    60.5615 |    -151.216 |                    3 |                  122 |                   2 |                   6 |          9.21762e+08 |       201312 | 740030           | 729080           |\n",
      "|  3 |  8400200143 | ALASKA EDUCATORS HISTORICAL SOCIETY                   | ALASKA EDUCATORS HISTORICAL SOCIETY                         | nan                                  | HISTORIC PRESERVATION                         |                nan | 214 BIRCH STREET                           | KENAI                            | AK                                |                                99611 | nan                                  | nan                        | nan                         |                            nan |    2.14247e+09 |    60.5628 |    -151.266 |                    3 |                  122 |                   2 |                   6 |          9.20165e+08 |       201412 |      0           |      0           |\n",
      "|  4 |  8400200027 | ALASKA HERITAGE MUSEUM                                | ALASKA AVIATION HERITAGE MUSEUM                             | nan                                  | HISTORY MUSEUM                                |                nan | 301 W NORTHERN LIGHTS BLVD                 | ANCHORAGE                        | AK                                |                                99503 | nan                                  | nan                        | nan                         |                            nan |    9.07265e+09 |    61.1793 |    -149.973 |                    1 |                   20 |                   2 |                   6 |          9.20072e+08 |       201312 | 602912           | 550236           |\n",
      "|  5 |  8400200096 | ALASKA HISTORICAL MUSEUM                              | ALASKA HISTORICAL MUSEUM INC                                | nan                                  | HISTORIC PRESERVATION                         |                nan | 1675 E 5TH AVE                             | ANCHORAGE                        | AK                                |                                99501 | nan                                  | nan                        | nan                         |                            nan |  nan           |    61.2178 |    -149.85  |                    1 |                   20 |                   2 |                   6 |          9.20062e+08 |          nan |    nan           |    nan           |\n",
      "|  6 |  8400200078 | ALASKA JEWISH MUSEUM                                  | ALASKA JEWISH HISTORICAL MUSEUM AND CULTURAL CENTER         | nan                                  | GENERAL MUSEUM                                |                nan | 1117 E 35TH AVE                            | ANCHORAGE                        | AK                                |                                99508 | 1221 E 35TH AVENUE                   | ANCHORAGE                  | AK                          |                          99508 |    9.07771e+09 |    61.1895 |    -149.861 |                    1 |                   20 |                   2 |                   6 |          7.1101e+08  |       201312 |      2.65894e+06 |  34374           |\n",
      "|  7 |  8400200084 | ALASKA LIGHTHOUSE ASSOCIATION                         | ALASKA LIGHTHOUSE ASSOCIATION                               | nan                                  | HISTORIC PRESERVATION                         |                nan | 2116 B 2ND ST                              | DOUGLAS                          | AK                                |                                99824 | nan                                  | nan                        | nan                         |                            nan |  nan           |    58.283  |    -134.406 |                    3 |                  110 |                   2 |                   6 |          9.11834e+08 |       201312 |  16500           |  16500           |\n",
      "|  8 |  8400200107 | ALASKA MASONIC LIBRARY AND MUSEUM FOUNDATION          | ALASKA MASONIC LIBRARY AND MUSEUM FOUNDATION                | nan                                  | GENERAL MUSEUM                                |                nan | PO BOX 190668                              | ANCHORAGE                        | AK                                |                                99519 | 606 W 4TH AVE                        | ANCHORAGE                  | AK                          |                          99519 |    9.07276e+09 |    61.2183 |    -149.895 |                    1 |                   20 |                   2 |                   6 |          9.20096e+08 |       201406 |      0           |      0           |\n",
      "|  9 |  8400200073 | ALASKA MINING HALL OF FAME FOUNDATION                 | ALASKA MINING HALL OF FAME FOUNDATION                       | nan                                  | HISTORY MUSEUM                                |                nan | PO BOX 81906                               | FAIRBANKS                        | AK                                |                                99708 | nan                                  | nan                        | nan                         |                            nan |  nan           |    64.8508 |    -147.829 |                    2 |                   90 |                   2 |                   6 |          5.5082e+08  |       201412 | 184295           |  31393           |\n",
      "| 10 |  8400200131 | ALASKA NATIONAL GUARD HISTORICAL HOLDING-MUSEUM       | ALASKA NATIONAL GUARD HISTORICAL HOLDING-MUSEUM FUND        | nan                                  | HISTORIC PRESERVATION                         |                nan | PO BPX 5800                                | FORT RICHARDSON                  | AK                                |                                99505 | nan                                  | nan                        | nan                         |                            nan |  nan           |    61.2531 |    -149.687 |                    1 |                  nan |                   2 |                   6 |          9.20142e+08 |          nan |    nan           |    nan           |\n",
      "| 11 |  8400200123 | ALASKA NATIVE HERITAGE CENTER                         | ALASKA NATIVE HERITAGE CENTER INC                           | nan                                  | GENERAL MUSEUM                                |                nan | 8800 HERITAGE CENTER DRIVE                 | ANCHORAGE                        | AK                                |                                99504 | nan                                  | nan                        | nan                         |                            nan |    9.07331e+09 |    61.2336 |    -149.716 |                    1 |                   20 |                   2 |                   6 |          9.20128e+08 |       201403 |      4.50273e+06 |      4.05039e+06 |\n",
      "| 12 |  8409500006 | ALASKA SEALIFE CENTER                                 | ALASKA SEALIFE CENTER                                       | nan                                  | ZOO, AQUARIUM, OR WILDLIFE CONSERVATION       |                nan | 301 RAILWAY AVENUE - PO BOX 1329           | SEWARD                           | AK                                |                                99664 | 301 RAILWAY AVENUE - PO BOX 1329     | SEWARD                     | AK                          |                          99664 |    9.07225e+09 |    60.2088 |    -149.387 |                    4 |                  122 |                   2 |                   6 |        nan           |          nan |    nan           |    nan           |\n",
      "| 13 |  8400200082 | ALASKA SPORTS HALL OF FAME                            | ALASKA SPORTS HALL OF FAME INC                              | nan                                  | GENERAL MUSEUM                                |                nan | 6740 SAMUEL CT                             | ANCHORAGE                        | AK                                |                                99516 | 14815 ECHO CANYON RD                 | ANCHORAGE                  | AK                          |                          99516 |  nan           |    61.0874 |    -149.693 |                    4 |                   20 |                   2 |                   6 |          8.10649e+08 |       201312 |      1.37093e+06 | 615273           |\n",
      "| 14 |  8400200044 | ALASKA STATE MUSEUM                                   | FRIENDS OF THE ALASKA STATE MUSEUM                          | nan                                  | GENERAL MUSEUM                                |                nan | 395 WHITTIER ST                            | JUNEAU                           | AK                                |                                99801 | nan                                  | nan                        | nan                         |                            nan |    9.07465e+09 |    58.3005 |    -134.415 |                    3 |                  110 |                   2 |                   6 |          2.37067e+08 |       201312 | 182675           | 129192           |\n",
      "| 15 |  8400200133 | ALASKA TERRITORIAL CAVALRY MOTORIZED                  | ALASKA TERRITORIAL CAVALRY MOTORIZED                        | ALASKA TERRITORIAL CAVALRY MOTORIZED | GENERAL MUSEUM                                |                nan | 5910 DEBARR ROAD                           | ANCHORAGE                        | AK                                |                                99516 | nan                                  | nan                        | nan                         |                            nan |    9.07563e+09 |    61.1901 |    -149.912 |                    1 |                   20 |                   2 |                   6 |          9.20145e+08 |       201412 |      0           |      0           |\n",
      "| 16 |  8400200026 | ALASKA TROOPER MUSEUM                                 | FRATERNAL ORDER OF ALASKA STATE TROOPERS CHARITY CORPORATIO | nan                                  | GENERAL MUSEUM                                |                nan | 245 W 5TH AVE                              | ANCHORAGE                        | AK                                |                                99501 | nan                                  | nan                        | nan                         |                            nan |    9.0728e+09  |    61.2176 |    -149.886 |                    1 |                   20 |                   2 |                   6 |          9.20091e+08 |       201312 | 769702           | 221807           |\n",
      "| 17 |  8400200031 | ALASKA VETERANS MUSEUM                                | ALASKA VETERANS MUSEUM                                      | nan                                  | HISTORY MUSEUM                                |                nan | 334 W 4TH AVENUE 227                       | ANCHORAGE                        | AK                                |                                99501 | nan                                  | nan                        | nan                         |                            nan |    9.07678e+09 |    61.2141 |    -149.879 |                    1 |                   20 |                   2 |                   6 |          3.03821e+07 |       201412 |      0           |      0           |\n",
      "| 18 |  8400200170 | ALASKA WILDLIFE CONSERVATION CENTER                   | ALASKA WILDLIFE CONSERVATION CENTER INC                     | nan                                  | ARBORETUM, BOTANICAL GARDEN, OR NATURE CENTER |                nan | PO BOX 848                                 | GIRDWOOD                         | AK                                |                                99587 | nan                                  | nan                        | nan                         |                            nan |    9.07228e+09 |    60.9644 |    -149.134 |                    4 |                   20 |                   2 |                   6 |          9.20171e+08 |       201312 |      3.33156e+06 |      2.79374e+06 |\n",
      "| 19 |  8400200087 | ALASKA ZOO                                            | ALASKA ZOO                                                  | nan                                  | ZOO, AQUARIUM, OR WILDLIFE CONSERVATION       |                nan | 4731 OMALLEY RD                            | ANCHORAGE                        | AK                                |                                99507 | 4731 OMALLEY RD                      | ANCHORAGE                  | AK                          |                          99507 |    9.07346e+09 |    61.1248 |    -149.793 |                    1 |                   20 |                   2 |                   6 |          9.20039e+08 |       201312 |      3.31009e+06 |      2.39375e+06 |\n",
      "+----+-------------+-------------------------------------------------------+-------------------------------------------------------------+--------------------------------------+-----------------------------------------------+--------------------+--------------------------------------------+----------------------------------+-----------------------------------+--------------------------------------+--------------------------------------+----------------------------+-----------------------------+--------------------------------+----------------+------------+-------------+----------------------+----------------------+---------------------+---------------------+----------------------+--------------+------------------+------------------+\n"
     ]
    }
   ],
   "source": [
    "mdb = pd.DataFrame(m)\n",
    "print(tabulate(mdb.head(20), headers=\"keys\", tablefmt=\"psql\"))"
   ]
  },
  {
   "cell_type": "code",
   "execution_count": null,
   "id": "51a6bc02",
   "metadata": {},
   "outputs": [],
   "source": []
  }
 ],
 "metadata": {
  "kernelspec": {
   "display_name": "Python 3 (ipykernel)",
   "language": "python",
   "name": "python3"
  },
  "language_info": {
   "codemirror_mode": {
    "name": "ipython",
    "version": 3
   },
   "file_extension": ".py",
   "mimetype": "text/x-python",
   "name": "python",
   "nbconvert_exporter": "python",
   "pygments_lexer": "ipython3",
   "version": "3.12.0"
  }
 },
 "nbformat": 4,
 "nbformat_minor": 5
}
