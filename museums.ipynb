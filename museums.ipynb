{
 "cells": [
  {
   "cell_type": "code",
   "execution_count": 3,
   "id": "f99ec83e-f328-43e3-9a06-7db02b12b638",
   "metadata": {
    "tags": []
   },
   "outputs": [
    {
     "name": "stdout",
     "output_type": "stream",
     "text": [
      "<class 'pandas.core.frame.DataFrame'>\n",
      "RangeIndex: 33072 entries, 0 to 33071\n",
      "Data columns (total 25 columns):\n",
      " #   Column                                    Non-Null Count  Dtype  \n",
      "---  ------                                    --------------  -----  \n",
      " 0   Museum ID                                 33072 non-null  int64  \n",
      " 1   Museum Name                               33072 non-null  object \n",
      " 2   Legal Name                                33072 non-null  object \n",
      " 3   Alternate Name                            1927 non-null   object \n",
      " 4   Museum Type                               33072 non-null  object \n",
      " 5   Institution Name                          2749 non-null   object \n",
      " 6   Street Address (Administrative Location)  33062 non-null  object \n",
      " 7   City (Administrative Location)            33072 non-null  object \n",
      " 8   State (Administrative Location)           33072 non-null  object \n",
      " 9   Zip Code (Administrative Location)        33072 non-null  object \n",
      " 10  Street Address (Physical Location)        9216 non-null   object \n",
      " 11  City (Physical Location)                  9223 non-null   object \n",
      " 12  State (Physical Location)                 9223 non-null   object \n",
      " 13  Zip Code (Physical Location)              9221 non-null   float64\n",
      " 14  Phone Number                              22932 non-null  object \n",
      " 15  Latitude                                  33007 non-null  float64\n",
      " 16  Longitude                                 33007 non-null  float64\n",
      " 17  Locale Code (NCES)                        32995 non-null  float64\n",
      " 18  County Code (FIPS)                        30536 non-null  float64\n",
      " 19  State Code (FIPS)                         33071 non-null  float64\n",
      " 20  Region Code (AAM)                         33072 non-null  int64  \n",
      " 21  Employer ID Number                        27554 non-null  object \n",
      " 22  Tax Period                                23280 non-null  float64\n",
      " 23  Income                                    22961 non-null  float64\n",
      " 24  Revenue                                   22290 non-null  float64\n",
      "dtypes: float64(9), int64(2), object(14)\n",
      "memory usage: 6.3+ MB\n",
      "None\n"
     ]
    },
    {
     "name": "stderr",
     "output_type": "stream",
     "text": [
      "/var/folders/7d/177p5yjd3691b3ytzr0fwn_00000gp/T/ipykernel_23526/2563051159.py:3: DtypeWarning: Columns (9,14,21) have mixed types. Specify dtype option on import or set low_memory=False.\n",
      "  m = pd.read_csv(\"museums.csv\")\n"
     ]
    }
   ],
   "source": [
    "import pandas as pd\n",
    "from tabulate import tabulate\n",
    "m = pd.read_csv(\"museums.csv\")\n",
    "# print(m.head(20))\n",
    "print(m.info())\n",
    "def to_tabulate(df, format):\n",
    "    print(tabulate(df, headers=\"keys\", tablefmt=format))"
   ]
  },
  {
   "cell_type": "code",
   "execution_count": 23,
   "id": "ad13f1b3-6460-4f66-85bf-d8013b91e094",
   "metadata": {},
   "outputs": [
    {
     "name": "stdout",
     "output_type": "stream",
     "text": [
      "+----+----------------------------+-----------------------------+---------------+\n",
      "|    | City (Physical Location)   | State (Physical Location)   |   Museum Name |\n",
      "|----+----------------------------+-----------------------------+---------------|\n",
      "|  0 | 400 NEVIN AVE              | CA                          |             1 |\n",
      "|  1 | AARONSBURG                 | PA                          |             2 |\n",
      "|  2 | ABACOA JUPITER             | FL                          |             1 |\n",
      "|  3 | ABBEVILLE                  | AL                          |             1 |\n",
      "|  4 | ABBEVILLE                  | LA                          |             1 |\n",
      "|  5 | ABBEVILLE                  | SC                          |             1 |\n",
      "|  6 | ABBOT                      | ME                          |             1 |\n",
      "|  7 | ABERDEEN                   | MD                          |             1 |\n",
      "|  8 | ABERDEEN                   | NC                          |             1 |\n",
      "|  9 | ABERDEEN                   | OH                          |             1 |\n",
      "| 10 | ABERDEEN                   | WA                          |             1 |\n",
      "| 11 | ABILENE                    | KS                          |             1 |\n",
      "| 12 | ABILENE                    | TX                          |             6 |\n",
      "| 13 | ABINGDON                   | IL                          |             1 |\n",
      "| 14 | ABINGDON                   | MD                          |             1 |\n",
      "| 15 | ABINGDON                   | VA                          |             2 |\n",
      "| 16 | ABINGTON                   | PA                          |             1 |\n",
      "| 17 | ABIQUIU                    | NM                          |             1 |\n",
      "| 18 | ABSECON                    | NJ                          |             1 |\n",
      "| 19 | ACCOMAC                    | VA                          |             1 |\n",
      "| 20 | ACCORD                     | NY                          |             1 |\n",
      "| 21 | ACTON                      | MA                          |             1 |\n",
      "| 22 | ADA                        | MI                          |             1 |\n",
      "| 23 | ADA                        | MN                          |             1 |\n",
      "| 24 | ADA                        | OH                          |             1 |\n",
      "| 25 | ADAIRSVILLE                | GA                          |             1 |\n",
      "| 26 | ADAIRVILLE                 | KY                          |             1 |\n",
      "| 27 | ADAMS                      | MN                          |             1 |\n",
      "| 28 | ADAMSTOWN                  | MD                          |             1 |\n",
      "| 29 | ADDISON                    | IL                          |             1 |\n",
      "| 30 | ADDISON                    | PA                          |             1 |\n",
      "| 31 | ADDISON                    | TX                          |             2 |\n",
      "| 32 | AIKEN                      | SC                          |             2 |\n",
      "| 33 | AINSWORTH                  | NE                          |             1 |\n",
      "| 34 | AIRMONT                    | NY                          |             2 |\n",
      "| 35 | AITKIN                     | MN                          |             1 |\n",
      "| 36 | AJO                        | AZ                          |             1 |\n",
      "| 37 | AKRON                      | OH                          |             3 |\n",
      "| 38 | ALAMEDA                    | CA                          |             6 |\n",
      "| 39 | ALAMOGORDO                 | NM                          |             4 |\n",
      "| 40 | ALAMOSA                    | CO                          |             1 |\n",
      "| 41 | ALBANY                     | GA                          |             6 |\n",
      "| 42 | ALBANY                     | IL                          |             1 |\n",
      "| 43 | ALBANY                     | MO                          |             1 |\n",
      "| 44 | ALBANY                     | NY                          |             4 |\n",
      "| 45 | ALBANY                     | OR                          |             2 |\n",
      "| 46 | ALBANY                     | TX                          |             1 |\n",
      "| 47 | ALBANY                     | VT                          |             1 |\n",
      "| 48 | ALBEMARLE                  | NC                          |             2 |\n",
      "| 49 | ALBERTVILLE                | AL                          |             1 |\n",
      "+----+----------------------------+-----------------------------+---------------+\n",
      "+----------------------------+------+------+------+------+------+------+------+------+------+------+------+------+------+------+------+------+------+------+------+------+------+------+------+------+------+------+------+------+------+------+------+------+------+------+------+------+------+------+------+------+------+------+------+------+------+------+------+------+------+------+------+\n",
      "| City (Physical Location)   |   AK |   AL |   AR |   AZ |   CA |   CO |   CT |   DC |   DE |   FL |   GA |   HI |   IA |   ID |   IL |   IN |   KS |   KY |   LA |   MA |   MD |   ME |   MI |   MN |   MO |   MS |   MT |   NC |   ND |   NE |   NH |   NJ |   NM |   NV |   NY |   OH |   OK |   OR |   PA |   RI |   SC |   SD |   TN |   TX |   UT |   VA |   VT |   WA |   WI |   WV |   WY |\n",
      "|----------------------------+------+------+------+------+------+------+------+------+------+------+------+------+------+------+------+------+------+------+------+------+------+------+------+------+------+------+------+------+------+------+------+------+------+------+------+------+------+------+------+------+------+------+------+------+------+------+------+------+------+------+------|\n",
      "| 400 NEVIN AVE              |  nan |  nan |  nan |  nan |    1 |  nan |  nan |  nan |  nan |  nan |  nan |  nan |  nan |  nan |  nan |  nan |  nan |  nan |  nan |  nan |  nan |  nan |  nan |  nan |  nan |  nan |  nan |  nan |  nan |  nan |  nan |  nan |  nan |  nan |  nan |  nan |  nan |  nan |  nan |  nan |  nan |  nan |  nan |  nan |  nan |  nan |  nan |  nan |  nan |  nan |  nan |\n",
      "| AARONSBURG                 |  nan |  nan |  nan |  nan |  nan |  nan |  nan |  nan |  nan |  nan |  nan |  nan |  nan |  nan |  nan |  nan |  nan |  nan |  nan |  nan |  nan |  nan |  nan |  nan |  nan |  nan |  nan |  nan |  nan |  nan |  nan |  nan |  nan |  nan |  nan |  nan |  nan |  nan |    2 |  nan |  nan |  nan |  nan |  nan |  nan |  nan |  nan |  nan |  nan |  nan |  nan |\n",
      "| ABACOA JUPITER             |  nan |  nan |  nan |  nan |  nan |  nan |  nan |  nan |  nan |    1 |  nan |  nan |  nan |  nan |  nan |  nan |  nan |  nan |  nan |  nan |  nan |  nan |  nan |  nan |  nan |  nan |  nan |  nan |  nan |  nan |  nan |  nan |  nan |  nan |  nan |  nan |  nan |  nan |  nan |  nan |  nan |  nan |  nan |  nan |  nan |  nan |  nan |  nan |  nan |  nan |  nan |\n",
      "| ABBEVILLE                  |  nan |    1 |  nan |  nan |  nan |  nan |  nan |  nan |  nan |  nan |  nan |  nan |  nan |  nan |  nan |  nan |  nan |  nan |    1 |  nan |  nan |  nan |  nan |  nan |  nan |  nan |  nan |  nan |  nan |  nan |  nan |  nan |  nan |  nan |  nan |  nan |  nan |  nan |  nan |  nan |    1 |  nan |  nan |  nan |  nan |  nan |  nan |  nan |  nan |  nan |  nan |\n",
      "| ABBOT                      |  nan |  nan |  nan |  nan |  nan |  nan |  nan |  nan |  nan |  nan |  nan |  nan |  nan |  nan |  nan |  nan |  nan |  nan |  nan |  nan |  nan |    1 |  nan |  nan |  nan |  nan |  nan |  nan |  nan |  nan |  nan |  nan |  nan |  nan |  nan |  nan |  nan |  nan |  nan |  nan |  nan |  nan |  nan |  nan |  nan |  nan |  nan |  nan |  nan |  nan |  nan |\n",
      "| ABERDEEN                   |  nan |  nan |  nan |  nan |  nan |  nan |  nan |  nan |  nan |  nan |  nan |  nan |  nan |  nan |  nan |  nan |  nan |  nan |  nan |  nan |    1 |  nan |  nan |  nan |  nan |  nan |  nan |    1 |  nan |  nan |  nan |  nan |  nan |  nan |  nan |    1 |  nan |  nan |  nan |  nan |  nan |  nan |  nan |  nan |  nan |  nan |  nan |    1 |  nan |  nan |  nan |\n",
      "| ABILENE                    |  nan |  nan |  nan |  nan |  nan |  nan |  nan |  nan |  nan |  nan |  nan |  nan |  nan |  nan |  nan |  nan |    1 |  nan |  nan |  nan |  nan |  nan |  nan |  nan |  nan |  nan |  nan |  nan |  nan |  nan |  nan |  nan |  nan |  nan |  nan |  nan |  nan |  nan |  nan |  nan |  nan |  nan |  nan |    6 |  nan |  nan |  nan |  nan |  nan |  nan |  nan |\n",
      "| ABINGDON                   |  nan |  nan |  nan |  nan |  nan |  nan |  nan |  nan |  nan |  nan |  nan |  nan |  nan |  nan |    1 |  nan |  nan |  nan |  nan |  nan |    1 |  nan |  nan |  nan |  nan |  nan |  nan |  nan |  nan |  nan |  nan |  nan |  nan |  nan |  nan |  nan |  nan |  nan |  nan |  nan |  nan |  nan |  nan |  nan |  nan |    2 |  nan |  nan |  nan |  nan |  nan |\n",
      "| ABINGTON                   |  nan |  nan |  nan |  nan |  nan |  nan |  nan |  nan |  nan |  nan |  nan |  nan |  nan |  nan |  nan |  nan |  nan |  nan |  nan |  nan |  nan |  nan |  nan |  nan |  nan |  nan |  nan |  nan |  nan |  nan |  nan |  nan |  nan |  nan |  nan |  nan |  nan |  nan |    1 |  nan |  nan |  nan |  nan |  nan |  nan |  nan |  nan |  nan |  nan |  nan |  nan |\n",
      "| ABIQUIU                    |  nan |  nan |  nan |  nan |  nan |  nan |  nan |  nan |  nan |  nan |  nan |  nan |  nan |  nan |  nan |  nan |  nan |  nan |  nan |  nan |  nan |  nan |  nan |  nan |  nan |  nan |  nan |  nan |  nan |  nan |  nan |  nan |    1 |  nan |  nan |  nan |  nan |  nan |  nan |  nan |  nan |  nan |  nan |  nan |  nan |  nan |  nan |  nan |  nan |  nan |  nan |\n",
      "+----------------------------+------+------+------+------+------+------+------+------+------+------+------+------+------+------+------+------+------+------+------+------+------+------+------+------+------+------+------+------+------+------+------+------+------+------+------+------+------+------+------+------+------+------+------+------+------+------+------+------+------+------+------+\n"
     ]
    }
   ],
   "source": [
    "most_museums = m.groupby([\"City (Physical Location)\", \"State (Physical Location)\"])[\"Museum Name\"].count().reset_index()\n",
    "to_tabulate(most_museums.head(50), \"psql\")\n",
    "pivot_most_museums = most_museums.pivot(\n",
    "    columns=\"State (Physical Location)\",\n",
    "    index=\"City (Physical Location)\",\n",
    "    values=\"Museum Name\"\n",
    ")\n",
    "to_tabulate(pivot_most_museums.head(10), \"psql\")\n",
    "    "
   ]
  },
  {
   "cell_type": "code",
   "execution_count": null,
   "id": "51a6bc02",
   "metadata": {},
   "outputs": [],
   "source": []
  }
 ],
 "metadata": {
  "kernelspec": {
   "display_name": "Python 3 (ipykernel)",
   "language": "python",
   "name": "python3"
  },
  "language_info": {
   "codemirror_mode": {
    "name": "ipython",
    "version": 3
   },
   "file_extension": ".py",
   "mimetype": "text/x-python",
   "name": "python",
   "nbconvert_exporter": "python",
   "pygments_lexer": "ipython3",
   "version": "3.12.0"
  }
 },
 "nbformat": 4,
 "nbformat_minor": 5
}
